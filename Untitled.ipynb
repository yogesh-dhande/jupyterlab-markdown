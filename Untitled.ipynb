{
 "cells": [
  {
   "cell_type": "markdown",
   "id": "b2ee132f-169b-49ea-936b-c8171f138947",
   "metadata": {},
   "source": [
    "What do we want to eat?\n",
    "- Pizza\n",
    "\n",
    "- https://unsplash.com/photos/QKjyXMbDqNY\n",
    "- https://unsplash.com/photos/QKjyXMbDqNY\n",
    "- - Burger?\n",
    "- Snacks!\n",
    "- Mustard\n",
    "- Souce\n",
    "- Soop\n",
    "- Soil\n",
    "- - Mustard\n",
    "- Souce\n",
    "- Soop\n",
    "- Soil"
   ]
  },
  {
   "cell_type": "markdown",
   "id": "d57d392a-0b69-4661-8392-1b70fe3f396d",
   "metadata": {},
   "source": [
    "https://unsplash.com/photos/QKjyXMbDqNY"
   ]
  },
  {
   "cell_type": "markdown",
   "id": "d95bf433-a09a-4848-993e-e99c15fd9a92",
   "metadata": {},
   "source": [
    "https://unsplash.com/photos/QKjyXMbDqNYMaybe"
   ]
  },
  {
   "cell_type": "code",
   "execution_count": null,
   "id": "469deab1-9a72-4330-ae82-84da084587f2",
   "metadata": {},
   "outputs": [],
   "source": [
    "- Pizza"
   ]
  }
 ],
 "metadata": {
  "kernelspec": {
   "display_name": "Python 3",
   "language": "python",
   "name": "python3"
  },
  "language_info": {
   "codemirror_mode": {
    "name": "ipython",
    "version": 3
   },
   "file_extension": ".py",
   "mimetype": "text/x-python",
   "name": "python",
   "nbconvert_exporter": "python",
   "pygments_lexer": "ipython3",
   "version": "3.9.5"
  }
 },
 "nbformat": 4,
 "nbformat_minor": 5
}
