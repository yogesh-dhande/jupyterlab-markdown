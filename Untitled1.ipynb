{
 "cells": [
  {
   "cell_type": "markdown",
   "id": "5b1b8aea-1e3d-44c0-9207-783455b82944",
   "metadata": {},
   "source": []
  },
  {
   "cell_type": "markdown",
   "id": "b69333d3-cf2f-4a54-9ba7-6394b7d5d4e3",
   "metadata": {},
   "source": [
    "What do I type?\n"
   ]
  },
  {
   "cell_type": "markdown",
   "id": "3ea3d1de-fe31-41bd-9499-458432559cbf",
   "metadata": {},
   "source": [
    "import os"
   ]
  },
  {
   "cell_type": "code",
   "execution_count": null,
   "id": "378b9968-58e6-4497-b6fe-03be1262fa63",
   "metadata": {},
   "outputs": [],
   "source": []
  }
 ],
 "metadata": {
  "kernelspec": {
   "display_name": "Python 3",
   "language": "python",
   "name": "python3"
  },
  "language_info": {
   "codemirror_mode": {
    "name": "ipython",
    "version": 3
   },
   "file_extension": ".py",
   "mimetype": "text/x-python",
   "name": "python",
   "nbconvert_exporter": "python",
   "pygments_lexer": "ipython3",
   "version": "3.9.5"
  }
 },
 "nbformat": 4,
 "nbformat_minor": 5
}
